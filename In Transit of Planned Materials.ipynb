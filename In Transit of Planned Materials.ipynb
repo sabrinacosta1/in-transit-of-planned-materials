{
 "cells": [
  {
   "cell_type": "code",
   "execution_count": null,
   "metadata": {},
   "outputs": [],
   "source": [
    "import pandas as pd\n",
    "import numpy as np\n",
    "\n",
    "# Importando as bases\n",
    "df_vor = pd.read_excel('C:\\\\Users\\\\scosta\\\\Desktop\\\\Vorplan.xlsx') # Base de dados com a informção de planejamento para cada material\n",
    "df_lx = pd.read_excel('C:\\\\Users\\\\scosta\\\\Desktop\\\\LX02 8510.XLSX') # Part numbers em estoque\n",
    "df_sp = pd.read_excel('C:\\\\Users\\\\scosta\\\\Desktop\\\\SP99.xlsx') # Custo de cada part number \n",
    "df_06 = pd.read_excel('C:\\\\Users\\\\scosta\\\\Desktop\\\\vl06f.xlsx') # Part numbers aguardando separação logística\n",
    "\n",
    "print(\"Tabelas importadas com sucesso\")\n",
    "\n",
    "# Validação dos dados carregados\n",
    "assert 'A~Material' in df_vor.columns, \"'A~Material' não encontrado na VORPLAN\"\n",
    "assert 'Material' in df_lx.columns, \"'Material' não encontrado na LX02\"\n",
    "assert 'Material' in df_sp.columns, \"'Material' não encontrado na SP99\"\n",
    "assert 'Material' in df_06.columns, \"'Material' não encontrado na vl06f\""
   ]
  },
  {
   "cell_type": "code",
   "execution_count": null,
   "metadata": {},
   "outputs": [],
   "source": [
    "# Função para normalizar os dados de material\n",
    "def normalize_material(df, column_name):\n",
    "    df[column_name] = df[column_name].astype(str).str.strip().str.upper()  # Converte para string, remove espaços e converte para maiúsculas\n",
    "    df[column_name] = df[column_name].str.zfill(11)  # Preenche com zeros à esquerda para garantir 11 dígitos\n",
    "    return df\n",
    "\n",
    "# Normalizando a coluna específica de cada DataFrame\n",
    "df_vor = normalize_material(df_vor, 'A~Material')\n",
    "df_lx = normalize_material(df_lx, 'Material')\n",
    "df_sp = normalize_material(df_sp, 'Material')\n",
    "df_06 = normalize_material(df_06, 'Material')\n",
    "\n",
    "\n",
    "# Converter colunas para o tipo correto\n",
    "df_vor['B~Qtd.plan.'] = df_vor['B~Qtd.plan.'].astype(float)\n",
    "df_vor['B~Rem/FimBas'] = pd.to_datetime(df_vor['B~Rem/FimBas'], format='%d/%m/%Y')\n",
    "df_lx['Estoque disponível'] = df_lx['Estoque disponível'].astype(float)\n",
    "#df_lx['Tipo de depósito'] = df_lx['Tipo de depósito'].astype(int)\n",
    "df_06['Qtd.remessa'] = df_06['Qtd.remessa'].astype(float)\n",
    "\n",
    "\n",
    "# Para o DataFrame df_sp\n",
    "colunas_sp = ['Preço-padrão', 'Preço interno periódico', 'Unidade de preço']\n",
    "for coluna in colunas_sp:\n",
    "    df_sp[coluna] = df_sp[coluna].astype(float)"
   ]
  },
  {
   "cell_type": "markdown",
   "metadata": {},
   "source": [
    "## Tratando VL06F ##"
   ]
  },
  {
   "cell_type": "code",
   "execution_count": null,
   "metadata": {},
   "outputs": [],
   "source": [
    "# Agregação de valores\n",
    "df_06 = df_06.groupby('Material')['Qtd.remessa'].sum()\n",
    "df_06 = df_06.reset_index() # Resetar o índice para transformar o índice \"Material\" em uma coluna regular"
   ]
  },
  {
   "cell_type": "markdown",
   "metadata": {},
   "source": [
    "## Tratando LX02 ##"
   ]
  },
  {
   "cell_type": "markdown",
   "metadata": {},
   "source": [
    "## Manter 916 e verificar se está mesmo com valores = 0 ##\n"
   ]
  },
  {
   "cell_type": "code",
   "execution_count": null,
   "metadata": {},
   "outputs": [],
   "source": [
    "# Verificando se de fato 'Tipo de depósito' 916 está com a quantidade zerada. Caso não esteja, talvez o df_06 não seja mais necessário\n",
    "df_lx_916 = df_lx.drop(df_lx[df_lx['Tipo de depósito'] != 916].index)\n",
    "qntde_916 = df_lx_916['Estoque disponível'].sum()\n",
    "\n",
    "print(qntde_916)"
   ]
  },
  {
   "cell_type": "code",
   "execution_count": null,
   "metadata": {},
   "outputs": [],
   "source": [
    "# Agregação de valores\n",
    "df_lx = df_lx.groupby('Material')['Estoque disponível'].sum()\n",
    "df_lx = df_lx.reset_index() # Resetar o índice para transformar o índice \"Material\" em uma coluna regular\n",
    "df_lx['Estoque disponível'] = df_lx['Estoque disponível'].fillna(0)\n",
    "\n",
    "\n",
    "df_lx = df_lx.merge(df_06[['Material', 'Qtd.remessa']], on='Material', how='outer')\n",
    "df_lx['Qtd.remessa'] = df_lx['Qtd.remessa'].fillna(0)\n",
    "df_lx['Total'] = df_lx['Estoque disponível'] + df_lx['Qtd.remessa'] \n",
    "df_lx.rename(columns={'Estoque disponível': 'Estoque LX02', 'Total': 'Estoque disponível'}, inplace=True)\n",
    "\n",
    "#df_lx.to_excel('C:\\\\Users\\\\scosta\\\\Desktop\\\\LX02_pivot.xlsx')\n"
   ]
  },
  {
   "cell_type": "markdown",
   "metadata": {},
   "source": [
    "## Tratando SP99 ##"
   ]
  },
  {
   "cell_type": "code",
   "execution_count": null,
   "metadata": {},
   "outputs": [],
   "source": [
    "# Limpando informações desnecessárias\n",
    "df_sp = df_sp.drop(df_sp[df_sp['Material'].isin(['nan'])].index) #remover linhas em que o material está vazio\n",
    "#df_sp\n",
    "\n",
    "# Inserindo coluna \"Valor unitário\" na SP99\n",
    "df_sp['Valor unitário'] = np.where(df_sp['Preço interno periódico'] == 0, \n",
    "                                   df_sp['Preço-padrão'] / df_sp['Unidade de preço'], \n",
    "                                   df_sp['Preço interno periódico'] / df_sp['Unidade de preço'])\n",
    "\n",
    "# Removendo duplicadas na SP99\n",
    "df_sp.sort_values(by='Estoque total', ascending=False, inplace=True)\n",
    "df_sp = df_sp.drop_duplicates(subset='Material', keep='first')\n",
    "\n",
    "# Exporta o DataFrame para um arquivo Excel\n",
    "df_sp.to_excel('C:\\\\Users\\\\scosta\\\\Desktop\\\\sp_filtrada.xlsx')"
   ]
  },
  {
   "cell_type": "markdown",
   "metadata": {},
   "source": [
    "## Tratando  Vorplan ##"
   ]
  },
  {
   "cell_type": "code",
   "execution_count": null,
   "metadata": {},
   "outputs": [],
   "source": [
    "# Trabalhando a vorplan\n",
    "df_vor.rename(columns={'A~Material.1': 'Descrição'}, inplace=True)\n",
    "df_vor = df_vor.merge(df_lx[['Material', 'Estoque disponível']], left_on='A~Material', right_on='Material', how='left')\n",
    "df_vor['Estoque disponível'] = df_vor['Estoque disponível'].fillna(0)\n",
    "df_vor = df_vor.merge(df_sp[['Material', 'Valor unitário']], left_on='A~Material', right_on='Material', how='left')\n",
    "df_vor['Valor unitário'] = df_vor['Valor unitário'].fillna(0)\n",
    "df_vor['Mês/Ano'] = df_vor['B~Rem/FimBas'].dt.strftime('%m/%Y')\n",
    "df_vor.sort_values(by='B~Rem/FimBas', ascending=True, inplace=True)"
   ]
  },
  {
   "cell_type": "markdown",
   "metadata": {},
   "source": [
    "## Calculando Valor em Trânsito ##"
   ]
  },
  {
   "cell_type": "code",
   "execution_count": null,
   "metadata": {},
   "outputs": [],
   "source": [
    "# Passo 1: Calcular a média do estoque para cada código de material e adicionar ao DataFrame\n",
    "df_vor['Estoque_médio'] = df_vor.groupby('A~Material')['Estoque disponível'].transform('mean')\n",
    "\n",
    "# Alteração: Garantir que estamos utilizando o nome correto da coluna 'Estoque disponível'\n",
    "df_vor['Estoque_médio'] = df_vor.groupby('A~Material')['Estoque disponível'].transform('mean')\n",
    "\n",
    "# Passo 2: Calcular a soma cumulativa das quantidades planejadas para cada código\n",
    "df_vor['Quantidade Acumulada'] = df_vor.groupby('A~Material')['B~Qtd.plan.'].cumsum()\n",
    "\n",
    "# Passo 3: Calcular \"Qtde em Trânsito\" subtraindo o estoque médio da quantidade acumulada\n",
    "df_vor['Qtde em Trânsito'] = df_vor['Quantidade Acumulada'] - df_vor['Estoque_médio']\n",
    "\n",
    "# Ajustando a coluna 'Qtde em Trânsito' para garantir que os valores sejam cumulativos e corretos\n",
    "df_vor['Qtde em Trânsito'] = df_vor.groupby('A~Material')['Qtde em Trânsito'].transform(lambda x: x.clip(lower=0).diff().fillna(x)) # Explicação 1\n",
    "\n",
    "# Para garantir que os valores não sejam negativos e cumpram as condições iniciais:\n",
    "df_vor['Qtde em Trânsito'] = df_vor['Qtde em Trânsito'].clip(lower=0) # Explicação 2\n",
    "\n",
    "# Passo 4: Calcular o valor em trânsito\n",
    "df_vor['Valor Total em Trânsito'] = df_vor['Qtde em Trânsito'] * df_vor['Valor unitário']\n",
    "\n",
    "# Resultado final\n",
    "df_vor.to_excel('C:\\\\Users\\\\scosta\\\\Desktop\\\\Trânsito_Vorplan.xlsx')\n",
    "\n",
    "# Resultado final agrupado\n",
    "resultado_agrupado = df_vor.groupby('Mês/Ano')['Valor Total em Trânsito'].sum().reset_index()\n",
    "#resultado_agrupado.to_excel('C:\\\\Users\\\\scosta\\\\Desktop\\\\df_vor_2.xlsx')"
   ]
  },
  {
   "cell_type": "markdown",
   "metadata": {},
   "source": [
    "### Explicação 1 ###"
   ]
  },
  {
   "cell_type": "markdown",
   "metadata": {},
   "source": [
    "groupby('A~Material'): Agrupa o DataFrame pela coluna 'A~Material', o que permite aplicar uma função a cada grupo de valores que correspondem a um mesmo material. Isso é útil para operações que devem ser realizadas separadamente para cada tipo de material.\n",
    "\n",
    "transform(lambda x: ...): A função transform é utilizada para aplicar uma operação a cada grupo sem alterar a estrutura original do df_vor. Ela mantém o índice original do DataFrame.\n",
    "\n",
    "x.clip(lower=0): Dentro da função lambda, x.clip(lower=0) é usado para garantir que todos os valores em 'Qtde em Trânsito' sejam maiores que zero\n",
    "\n",
    "diff(): Calcula a diferença entre cada elemento e o seu antecessor dentro do grupo. Isso é usado para determinar a variação na 'Qtde em Trânsito'.\n",
    "\n",
    "fillna(x): Caso o .diff() gere algum valor NaN (como ocorrerá para o primeiro elemento de cada grupo, pois não há um elemento anterior para comparar), fillna(x) substitui esses NaNs pelo valor original de x antes das transformações. Isso significa que, para a primeira linha de cada grupo, o valor original de 'Qtde em Trânsito' é mantido."
   ]
  },
  {
   "cell_type": "markdown",
   "metadata": {},
   "source": [
    "### Explicação 2 ###"
   ]
  },
  {
   "cell_type": "markdown",
   "metadata": {},
   "source": [
    "clip(lower=0): Esta função é usada novamente para garantir que, após todas as transformações, ajustes e cálculos, nenhum valor na coluna 'Qtde em Trânsito' seja negativo."
   ]
  }
 ],
 "metadata": {
  "kernelspec": {
   "display_name": "Python 3",
   "language": "python",
   "name": "python3"
  },
  "language_info": {
   "codemirror_mode": {
    "name": "ipython",
    "version": 3
   },
   "file_extension": ".py",
   "mimetype": "text/x-python",
   "name": "python",
   "nbconvert_exporter": "python",
   "pygments_lexer": "ipython3",
   "version": "3.12.2"
  }
 },
 "nbformat": 4,
 "nbformat_minor": 2
}
